{
 "cells": [
  {
   "cell_type": "code",
   "execution_count": 1,
   "metadata": {},
   "outputs": [],
   "source": [
    "import pandas as pd\n",
    "import numpy as np"
   ]
  },
  {
   "cell_type": "code",
   "execution_count": 104,
   "metadata": {},
   "outputs": [],
   "source": [
    "df=pd.read_excel('Data Task.xlsx')"
   ]
  },
  {
   "cell_type": "code",
   "execution_count": 105,
   "metadata": {},
   "outputs": [
    {
     "data": {
      "text/html": [
       "<div>\n",
       "<style scoped>\n",
       "    .dataframe tbody tr th:only-of-type {\n",
       "        vertical-align: middle;\n",
       "    }\n",
       "\n",
       "    .dataframe tbody tr th {\n",
       "        vertical-align: top;\n",
       "    }\n",
       "\n",
       "    .dataframe thead th {\n",
       "        text-align: right;\n",
       "    }\n",
       "</style>\n",
       "<table border=\"1\" class=\"dataframe\">\n",
       "  <thead>\n",
       "    <tr style=\"text-align: right;\">\n",
       "      <th></th>\n",
       "      <th>Ref</th>\n",
       "      <th>Status</th>\n",
       "      <th>Age</th>\n",
       "      <th>Race</th>\n",
       "      <th>Hispanic</th>\n",
       "      <th>Masters Program</th>\n",
       "      <th>Sex</th>\n",
       "      <th>Ug End Date 1</th>\n",
       "      <th>Post-Bac Work</th>\n",
       "      <th>Reader 1 Academic</th>\n",
       "      <th>...</th>\n",
       "      <th>Reader 1 GPA</th>\n",
       "      <th>Reader 1 Recommendations</th>\n",
       "      <th>Area of Focus</th>\n",
       "      <th>GRE Verbal1</th>\n",
       "      <th>GRE Verbal Percentile1</th>\n",
       "      <th>GRE Quantitative1</th>\n",
       "      <th>GRE Quantitative Percentile1</th>\n",
       "      <th>Region</th>\n",
       "      <th>App - Financial - Amount Total</th>\n",
       "      <th>College Degree GPA</th>\n",
       "    </tr>\n",
       "  </thead>\n",
       "  <tbody>\n",
       "    <tr>\n",
       "      <th>0</th>\n",
       "      <td>1</td>\n",
       "      <td>1</td>\n",
       "      <td>28</td>\n",
       "      <td>White</td>\n",
       "      <td>No</td>\n",
       "      <td>Master of Public Policy (MPP) Studies Program</td>\n",
       "      <td>M</td>\n",
       "      <td>2012-05-01</td>\n",
       "      <td>3 years</td>\n",
       "      <td>B</td>\n",
       "      <td>...</td>\n",
       "      <td>B</td>\n",
       "      <td>B</td>\n",
       "      <td>Other</td>\n",
       "      <td>163.0</td>\n",
       "      <td>92.0</td>\n",
       "      <td>160.0</td>\n",
       "      <td>76.0</td>\n",
       "      <td>NY</td>\n",
       "      <td>0</td>\n",
       "      <td>NaN</td>\n",
       "    </tr>\n",
       "    <tr>\n",
       "      <th>1</th>\n",
       "      <td>2</td>\n",
       "      <td>1</td>\n",
       "      <td>28</td>\n",
       "      <td>White</td>\n",
       "      <td>No</td>\n",
       "      <td>Master of Public Policy (MPP) Studies Program</td>\n",
       "      <td>M</td>\n",
       "      <td>2011-05-01</td>\n",
       "      <td>4 years</td>\n",
       "      <td>C</td>\n",
       "      <td>...</td>\n",
       "      <td>B</td>\n",
       "      <td>B</td>\n",
       "      <td>Education Policy</td>\n",
       "      <td>166.0</td>\n",
       "      <td>97.0</td>\n",
       "      <td>161.0</td>\n",
       "      <td>79.0</td>\n",
       "      <td>IL</td>\n",
       "      <td>0</td>\n",
       "      <td>3.590</td>\n",
       "    </tr>\n",
       "    <tr>\n",
       "      <th>2</th>\n",
       "      <td>3</td>\n",
       "      <td>1</td>\n",
       "      <td>29</td>\n",
       "      <td>Asian, Asian - Indian, Asian - Other Asian</td>\n",
       "      <td>No</td>\n",
       "      <td>Master of Public Policy (MPP) Studies Program</td>\n",
       "      <td>M</td>\n",
       "      <td>2010-08-01</td>\n",
       "      <td>4 years</td>\n",
       "      <td>B</td>\n",
       "      <td>...</td>\n",
       "      <td>A</td>\n",
       "      <td>A</td>\n",
       "      <td>International Policy</td>\n",
       "      <td>155.0</td>\n",
       "      <td>68.0</td>\n",
       "      <td>160.0</td>\n",
       "      <td>76.0</td>\n",
       "      <td>IL</td>\n",
       "      <td>0</td>\n",
       "      <td>3.790</td>\n",
       "    </tr>\n",
       "    <tr>\n",
       "      <th>3</th>\n",
       "      <td>4</td>\n",
       "      <td>1</td>\n",
       "      <td>28</td>\n",
       "      <td>NaN</td>\n",
       "      <td>No</td>\n",
       "      <td>Master of Public Policy (MPP) Studies Program</td>\n",
       "      <td>F</td>\n",
       "      <td>2011-05-01</td>\n",
       "      <td>3-5 years</td>\n",
       "      <td>A</td>\n",
       "      <td>...</td>\n",
       "      <td>C</td>\n",
       "      <td>B</td>\n",
       "      <td>Social Policy and Inequality</td>\n",
       "      <td>160.0</td>\n",
       "      <td>85.0</td>\n",
       "      <td>162.0</td>\n",
       "      <td>82.0</td>\n",
       "      <td>MA</td>\n",
       "      <td>0</td>\n",
       "      <td>3.321</td>\n",
       "    </tr>\n",
       "    <tr>\n",
       "      <th>4</th>\n",
       "      <td>5</td>\n",
       "      <td>0</td>\n",
       "      <td>31</td>\n",
       "      <td>White</td>\n",
       "      <td>No</td>\n",
       "      <td>Master of Science in Computational Analysis an...</td>\n",
       "      <td>M</td>\n",
       "      <td>2009-05-01</td>\n",
       "      <td>5 years</td>\n",
       "      <td>B</td>\n",
       "      <td>...</td>\n",
       "      <td>B</td>\n",
       "      <td>B</td>\n",
       "      <td>Education Policy</td>\n",
       "      <td>169.0</td>\n",
       "      <td>99.0</td>\n",
       "      <td>170.0</td>\n",
       "      <td>97.0</td>\n",
       "      <td>CT</td>\n",
       "      <td>$0</td>\n",
       "      <td>3.510</td>\n",
       "    </tr>\n",
       "  </tbody>\n",
       "</table>\n",
       "<p>5 rows × 21 columns</p>\n",
       "</div>"
      ],
      "text/plain": [
       "   Ref  Status  Age                                        Race Hispanic  \\\n",
       "0    1       1   28                                       White       No   \n",
       "1    2       1   28                                       White       No   \n",
       "2    3       1   29  Asian, Asian - Indian, Asian - Other Asian       No   \n",
       "3    4       1   28                                         NaN       No   \n",
       "4    5       0   31                                       White       No   \n",
       "\n",
       "                                     Masters Program Sex Ug End Date 1  \\\n",
       "0      Master of Public Policy (MPP) Studies Program   M    2012-05-01   \n",
       "1      Master of Public Policy (MPP) Studies Program   M    2011-05-01   \n",
       "2      Master of Public Policy (MPP) Studies Program   M    2010-08-01   \n",
       "3      Master of Public Policy (MPP) Studies Program   F    2011-05-01   \n",
       "4  Master of Science in Computational Analysis an...   M    2009-05-01   \n",
       "\n",
       "  Post-Bac Work Reader 1 Academic  ... Reader 1 GPA Reader 1 Recommendations  \\\n",
       "0       3 years                 B  ...            B                        B   \n",
       "1       4 years                 C  ...            B                        B   \n",
       "2       4 years                 B  ...            A                        A   \n",
       "3     3-5 years                 A  ...            C                        B   \n",
       "4       5 years                 B  ...            B                        B   \n",
       "\n",
       "                  Area of Focus GRE Verbal1  GRE Verbal Percentile1  \\\n",
       "0                         Other       163.0                    92.0   \n",
       "1              Education Policy       166.0                    97.0   \n",
       "2          International Policy       155.0                    68.0   \n",
       "3  Social Policy and Inequality       160.0                    85.0   \n",
       "4              Education Policy       169.0                    99.0   \n",
       "\n",
       "   GRE Quantitative1  GRE Quantitative Percentile1  Region  \\\n",
       "0              160.0                          76.0      NY   \n",
       "1              161.0                          79.0      IL   \n",
       "2              160.0                          76.0      IL   \n",
       "3              162.0                          82.0      MA   \n",
       "4              170.0                          97.0      CT   \n",
       "\n",
       "  App - Financial - Amount Total College Degree GPA  \n",
       "0                              0                NaN  \n",
       "1                              0              3.590  \n",
       "2                              0              3.790  \n",
       "3                              0              3.321  \n",
       "4                             $0              3.510  \n",
       "\n",
       "[5 rows x 21 columns]"
      ]
     },
     "execution_count": 105,
     "metadata": {},
     "output_type": "execute_result"
    }
   ],
   "source": [
    "df.head(5)"
   ]
  },
  {
   "cell_type": "markdown",
   "metadata": {},
   "source": [
    "## Clean Race"
   ]
  },
  {
   "cell_type": "code",
   "execution_count": 106,
   "metadata": {},
   "outputs": [],
   "source": [
    "df['Race'].fillna('N.A.',inplace=True)"
   ]
  },
  {
   "cell_type": "code",
   "execution_count": 107,
   "metadata": {},
   "outputs": [],
   "source": [
    "#Group Asians\n",
    "df.loc[df['Race'].str.contains('Asia'),'Race']='Asia'"
   ]
  },
  {
   "cell_type": "code",
   "execution_count": 108,
   "metadata": {},
   "outputs": [],
   "source": [
    "#Group American Indian or Alaska Native\n",
    "df.loc[df['Race'].str.contains('American Indian'),'Race']='American Indian or Alaska Native'"
   ]
  },
  {
   "cell_type": "code",
   "execution_count": 109,
   "metadata": {},
   "outputs": [],
   "source": [
    "#Group Blacks and African American\n",
    "df.loc[df['Race'].str.contains('Black'),'Race']='Blacks and African American'"
   ]
  },
  {
   "cell_type": "code",
   "execution_count": 110,
   "metadata": {},
   "outputs": [],
   "source": [
    "#Group Unknown Races\n",
    "df.loc[df['Race'].isin(['N.A.','Other','I prefer not to respond.']),'Race']='N.A.'"
   ]
  },
  {
   "cell_type": "code",
   "execution_count": 111,
   "metadata": {},
   "outputs": [
    {
     "data": {
      "text/plain": [
       "array(['White', 'Asia', 'N.A.', 'American Indian or Alaska Native',\n",
       "       'Blacks and African American', 'Arab/Middle Eastern/North African'],\n",
       "      dtype=object)"
      ]
     },
     "execution_count": 111,
     "metadata": {},
     "output_type": "execute_result"
    }
   ],
   "source": [
    "#Check how the races are grouped\n",
    "df.Race.unique()"
   ]
  },
  {
   "cell_type": "markdown",
   "metadata": {},
   "source": [
    "## Fill NA of Hispanic"
   ]
  },
  {
   "cell_type": "code",
   "execution_count": 112,
   "metadata": {},
   "outputs": [
    {
     "data": {
      "text/plain": [
       "Race                               Hispanic\n",
       "American Indian or Alaska Native   No           2\n",
       "Arab/Middle Eastern/North African  No           2\n",
       "Asia                               No          26\n",
       "Blacks and African American        No           7\n",
       "                                   Yes          1\n",
       "N.A.                               N.A.        10\n",
       "                                   No           2\n",
       "                                   Yes          5\n",
       "White                              N.A.         2\n",
       "                                   No          73\n",
       "                                   Yes         11\n",
       "dtype: int64"
      ]
     },
     "execution_count": 112,
     "metadata": {},
     "output_type": "execute_result"
    }
   ],
   "source": [
    "# We want to get some clues of the NA value from the race.\n",
    "df['Hispanic'].fillna('N.A.',inplace=True)\n",
    "df.groupby(['Race','Hispanic']).size()"
   ]
  },
  {
   "cell_type": "code",
   "execution_count": 113,
   "metadata": {},
   "outputs": [],
   "source": [
    "# Since majority of the Whites are not Hispanic, we will change NA to No is the race is white. \n",
    "#Other NA will left as it is since their race are also unknown.\n",
    "df.loc[df['Race']=='White','Hispanic']=df.loc[df['Race']=='White','Hispanic'].replace('N.A.','No')"
   ]
  },
  {
   "cell_type": "code",
   "execution_count": 114,
   "metadata": {},
   "outputs": [
    {
     "data": {
      "text/html": [
       "<div>\n",
       "<style scoped>\n",
       "    .dataframe tbody tr th:only-of-type {\n",
       "        vertical-align: middle;\n",
       "    }\n",
       "\n",
       "    .dataframe tbody tr th {\n",
       "        vertical-align: top;\n",
       "    }\n",
       "\n",
       "    .dataframe thead th {\n",
       "        text-align: right;\n",
       "    }\n",
       "</style>\n",
       "<table border=\"1\" class=\"dataframe\">\n",
       "  <thead>\n",
       "    <tr style=\"text-align: right;\">\n",
       "      <th></th>\n",
       "      <th>Ref</th>\n",
       "      <th>Status</th>\n",
       "      <th>Age</th>\n",
       "      <th>Race</th>\n",
       "      <th>Hispanic</th>\n",
       "      <th>Masters Program</th>\n",
       "      <th>Sex</th>\n",
       "      <th>Ug End Date 1</th>\n",
       "      <th>Post-Bac Work</th>\n",
       "      <th>Reader 1 Academic</th>\n",
       "      <th>...</th>\n",
       "      <th>Reader 1 GPA</th>\n",
       "      <th>Reader 1 Recommendations</th>\n",
       "      <th>Area of Focus</th>\n",
       "      <th>GRE Verbal1</th>\n",
       "      <th>GRE Verbal Percentile1</th>\n",
       "      <th>GRE Quantitative1</th>\n",
       "      <th>GRE Quantitative Percentile1</th>\n",
       "      <th>Region</th>\n",
       "      <th>App - Financial - Amount Total</th>\n",
       "      <th>College Degree GPA</th>\n",
       "    </tr>\n",
       "  </thead>\n",
       "  <tbody>\n",
       "    <tr>\n",
       "      <th>23</th>\n",
       "      <td>24</td>\n",
       "      <td>1</td>\n",
       "      <td>20</td>\n",
       "      <td>N.A.</td>\n",
       "      <td>N.A.</td>\n",
       "      <td>BA-MSCAPP Program</td>\n",
       "      <td>F</td>\n",
       "      <td>NaT</td>\n",
       "      <td>NaN</td>\n",
       "      <td>A</td>\n",
       "      <td>...</td>\n",
       "      <td>A</td>\n",
       "      <td>B</td>\n",
       "      <td>NaN</td>\n",
       "      <td>NaN</td>\n",
       "      <td>NaN</td>\n",
       "      <td>NaN</td>\n",
       "      <td>NaN</td>\n",
       "      <td>IL</td>\n",
       "      <td>0</td>\n",
       "      <td>3.860</td>\n",
       "    </tr>\n",
       "    <tr>\n",
       "      <th>25</th>\n",
       "      <td>26</td>\n",
       "      <td>0</td>\n",
       "      <td>28</td>\n",
       "      <td>N.A.</td>\n",
       "      <td>N.A.</td>\n",
       "      <td>Master of Public Policy (MPP) Studies Program</td>\n",
       "      <td>M</td>\n",
       "      <td>2011-03-01</td>\n",
       "      <td>5 years</td>\n",
       "      <td>C</td>\n",
       "      <td>...</td>\n",
       "      <td>C</td>\n",
       "      <td>B</td>\n",
       "      <td>Education Policy</td>\n",
       "      <td>160.0</td>\n",
       "      <td>85.0</td>\n",
       "      <td>155.0</td>\n",
       "      <td>59.0</td>\n",
       "      <td>MA</td>\n",
       "      <td>0</td>\n",
       "      <td>3.070</td>\n",
       "    </tr>\n",
       "    <tr>\n",
       "      <th>39</th>\n",
       "      <td>40</td>\n",
       "      <td>0</td>\n",
       "      <td>28</td>\n",
       "      <td>N.A.</td>\n",
       "      <td>N.A.</td>\n",
       "      <td>Master of Public Policy (MPP) Studies Program</td>\n",
       "      <td>M</td>\n",
       "      <td>2011-05-01</td>\n",
       "      <td>5 years</td>\n",
       "      <td>B</td>\n",
       "      <td>...</td>\n",
       "      <td>C</td>\n",
       "      <td>B</td>\n",
       "      <td>Heath Policy</td>\n",
       "      <td>163.0</td>\n",
       "      <td>92.0</td>\n",
       "      <td>154.0</td>\n",
       "      <td>55.0</td>\n",
       "      <td>DC</td>\n",
       "      <td>5000</td>\n",
       "      <td>3.452</td>\n",
       "    </tr>\n",
       "    <tr>\n",
       "      <th>56</th>\n",
       "      <td>57</td>\n",
       "      <td>0</td>\n",
       "      <td>27</td>\n",
       "      <td>N.A.</td>\n",
       "      <td>N.A.</td>\n",
       "      <td>Master of Science in Computational Analysis an...</td>\n",
       "      <td>F</td>\n",
       "      <td>2013-05-01</td>\n",
       "      <td>0-1 years</td>\n",
       "      <td>B</td>\n",
       "      <td>...</td>\n",
       "      <td>A</td>\n",
       "      <td>A</td>\n",
       "      <td>Cultural Policy</td>\n",
       "      <td>168.0</td>\n",
       "      <td>98.0</td>\n",
       "      <td>163.0</td>\n",
       "      <td>85.0</td>\n",
       "      <td>MN</td>\n",
       "      <td>7500</td>\n",
       "      <td>3.585</td>\n",
       "    </tr>\n",
       "    <tr>\n",
       "      <th>64</th>\n",
       "      <td>65</td>\n",
       "      <td>1</td>\n",
       "      <td>23</td>\n",
       "      <td>N.A.</td>\n",
       "      <td>N.A.</td>\n",
       "      <td>Professional Option (For Current UChicago Coll...</td>\n",
       "      <td>F</td>\n",
       "      <td>2015-01-01</td>\n",
       "      <td>0-1 years</td>\n",
       "      <td>B</td>\n",
       "      <td>...</td>\n",
       "      <td>B</td>\n",
       "      <td>A</td>\n",
       "      <td>Education Policy</td>\n",
       "      <td>164.0</td>\n",
       "      <td>94.0</td>\n",
       "      <td>161.0</td>\n",
       "      <td>79.0</td>\n",
       "      <td>IL</td>\n",
       "      <td>7500</td>\n",
       "      <td>3.440</td>\n",
       "    </tr>\n",
       "    <tr>\n",
       "      <th>102</th>\n",
       "      <td>103</td>\n",
       "      <td>0</td>\n",
       "      <td>25</td>\n",
       "      <td>N.A.</td>\n",
       "      <td>N.A.</td>\n",
       "      <td>Master of Public Policy (MPP) Studies Program</td>\n",
       "      <td>M</td>\n",
       "      <td>2015-05-01</td>\n",
       "      <td>1 year</td>\n",
       "      <td>B</td>\n",
       "      <td>...</td>\n",
       "      <td>A</td>\n",
       "      <td>B</td>\n",
       "      <td>Poverty and Inequality Study</td>\n",
       "      <td>166.0</td>\n",
       "      <td>97.0</td>\n",
       "      <td>164.0</td>\n",
       "      <td>87.0</td>\n",
       "      <td>MA</td>\n",
       "      <td>12500</td>\n",
       "      <td>3.800</td>\n",
       "    </tr>\n",
       "    <tr>\n",
       "      <th>112</th>\n",
       "      <td>113</td>\n",
       "      <td>0</td>\n",
       "      <td>31</td>\n",
       "      <td>N.A.</td>\n",
       "      <td>N.A.</td>\n",
       "      <td>Master of Arts in Public Policy with Certifica...</td>\n",
       "      <td>M</td>\n",
       "      <td>2009-05-01</td>\n",
       "      <td>1-2 years</td>\n",
       "      <td>B</td>\n",
       "      <td>...</td>\n",
       "      <td>B</td>\n",
       "      <td>B</td>\n",
       "      <td>Economic Policy and Public Finance</td>\n",
       "      <td>162.0</td>\n",
       "      <td>90.0</td>\n",
       "      <td>157.0</td>\n",
       "      <td>67.0</td>\n",
       "      <td>IL</td>\n",
       "      <td>0</td>\n",
       "      <td>3.540</td>\n",
       "    </tr>\n",
       "    <tr>\n",
       "      <th>117</th>\n",
       "      <td>118</td>\n",
       "      <td>1</td>\n",
       "      <td>28</td>\n",
       "      <td>N.A.</td>\n",
       "      <td>N.A.</td>\n",
       "      <td>Master of Public Policy (MPP) Studies Program</td>\n",
       "      <td>M</td>\n",
       "      <td>2010-05-01</td>\n",
       "      <td>3-5 years</td>\n",
       "      <td>B</td>\n",
       "      <td>...</td>\n",
       "      <td>B</td>\n",
       "      <td>B</td>\n",
       "      <td>Program Evaluation and Methods of Policy of An...</td>\n",
       "      <td>170.0</td>\n",
       "      <td>99.0</td>\n",
       "      <td>169.0</td>\n",
       "      <td>97.0</td>\n",
       "      <td>CA</td>\n",
       "      <td>0</td>\n",
       "      <td>3.660</td>\n",
       "    </tr>\n",
       "    <tr>\n",
       "      <th>121</th>\n",
       "      <td>122</td>\n",
       "      <td>0</td>\n",
       "      <td>27</td>\n",
       "      <td>N.A.</td>\n",
       "      <td>N.A.</td>\n",
       "      <td>Master of Public Policy (MPP) Studies Program</td>\n",
       "      <td>F</td>\n",
       "      <td>2011-05-01</td>\n",
       "      <td>3-5 years</td>\n",
       "      <td>A</td>\n",
       "      <td>...</td>\n",
       "      <td>B</td>\n",
       "      <td>B</td>\n",
       "      <td>Education Policy</td>\n",
       "      <td>156.0</td>\n",
       "      <td>72.0</td>\n",
       "      <td>169.0</td>\n",
       "      <td>97.0</td>\n",
       "      <td>CT</td>\n",
       "      <td>0</td>\n",
       "      <td>3.600</td>\n",
       "    </tr>\n",
       "    <tr>\n",
       "      <th>123</th>\n",
       "      <td>124</td>\n",
       "      <td>0</td>\n",
       "      <td>26</td>\n",
       "      <td>N.A.</td>\n",
       "      <td>N.A.</td>\n",
       "      <td>Master of Public Policy (MPP) Studies Program</td>\n",
       "      <td>F</td>\n",
       "      <td>2013-05-01</td>\n",
       "      <td>3 years</td>\n",
       "      <td>C</td>\n",
       "      <td>...</td>\n",
       "      <td>B</td>\n",
       "      <td>B</td>\n",
       "      <td>Heath Policy</td>\n",
       "      <td>167.0</td>\n",
       "      <td>98.0</td>\n",
       "      <td>159.0</td>\n",
       "      <td>77.0</td>\n",
       "      <td>MA</td>\n",
       "      <td>0</td>\n",
       "      <td>3.690</td>\n",
       "    </tr>\n",
       "  </tbody>\n",
       "</table>\n",
       "<p>10 rows × 21 columns</p>\n",
       "</div>"
      ],
      "text/plain": [
       "     Ref  Status  Age  Race Hispanic  \\\n",
       "23    24       1   20  N.A.     N.A.   \n",
       "25    26       0   28  N.A.     N.A.   \n",
       "39    40       0   28  N.A.     N.A.   \n",
       "56    57       0   27  N.A.     N.A.   \n",
       "64    65       1   23  N.A.     N.A.   \n",
       "102  103       0   25  N.A.     N.A.   \n",
       "112  113       0   31  N.A.     N.A.   \n",
       "117  118       1   28  N.A.     N.A.   \n",
       "121  122       0   27  N.A.     N.A.   \n",
       "123  124       0   26  N.A.     N.A.   \n",
       "\n",
       "                                       Masters Program Sex Ug End Date 1  \\\n",
       "23                                   BA-MSCAPP Program   F           NaT   \n",
       "25       Master of Public Policy (MPP) Studies Program   M    2011-03-01   \n",
       "39       Master of Public Policy (MPP) Studies Program   M    2011-05-01   \n",
       "56   Master of Science in Computational Analysis an...   F    2013-05-01   \n",
       "64   Professional Option (For Current UChicago Coll...   F    2015-01-01   \n",
       "102      Master of Public Policy (MPP) Studies Program   M    2015-05-01   \n",
       "112  Master of Arts in Public Policy with Certifica...   M    2009-05-01   \n",
       "117      Master of Public Policy (MPP) Studies Program   M    2010-05-01   \n",
       "121      Master of Public Policy (MPP) Studies Program   F    2011-05-01   \n",
       "123      Master of Public Policy (MPP) Studies Program   F    2013-05-01   \n",
       "\n",
       "    Post-Bac Work Reader 1 Academic  ... Reader 1 GPA  \\\n",
       "23            NaN                 A  ...            A   \n",
       "25        5 years                 C  ...            C   \n",
       "39        5 years                 B  ...            C   \n",
       "56      0-1 years                 B  ...            A   \n",
       "64      0-1 years                 B  ...            B   \n",
       "102        1 year                 B  ...            A   \n",
       "112     1-2 years                 B  ...            B   \n",
       "117     3-5 years                 B  ...            B   \n",
       "121     3-5 years                 A  ...            B   \n",
       "123       3 years                 C  ...            B   \n",
       "\n",
       "    Reader 1 Recommendations  \\\n",
       "23                         B   \n",
       "25                         B   \n",
       "39                         B   \n",
       "56                         A   \n",
       "64                         A   \n",
       "102                        B   \n",
       "112                        B   \n",
       "117                        B   \n",
       "121                        B   \n",
       "123                        B   \n",
       "\n",
       "                                         Area of Focus GRE Verbal1  \\\n",
       "23                                                 NaN         NaN   \n",
       "25                                    Education Policy       160.0   \n",
       "39                                        Heath Policy       163.0   \n",
       "56                                     Cultural Policy       168.0   \n",
       "64                                    Education Policy       164.0   \n",
       "102                       Poverty and Inequality Study       166.0   \n",
       "112                 Economic Policy and Public Finance       162.0   \n",
       "117  Program Evaluation and Methods of Policy of An...       170.0   \n",
       "121                                   Education Policy       156.0   \n",
       "123                                       Heath Policy       167.0   \n",
       "\n",
       "     GRE Verbal Percentile1  GRE Quantitative1  GRE Quantitative Percentile1  \\\n",
       "23                      NaN                NaN                           NaN   \n",
       "25                     85.0              155.0                          59.0   \n",
       "39                     92.0              154.0                          55.0   \n",
       "56                     98.0              163.0                          85.0   \n",
       "64                     94.0              161.0                          79.0   \n",
       "102                    97.0              164.0                          87.0   \n",
       "112                    90.0              157.0                          67.0   \n",
       "117                    99.0              169.0                          97.0   \n",
       "121                    72.0              169.0                          97.0   \n",
       "123                    98.0              159.0                          77.0   \n",
       "\n",
       "     Region App - Financial - Amount Total College Degree GPA  \n",
       "23       IL                              0              3.860  \n",
       "25       MA                              0              3.070  \n",
       "39       DC                           5000              3.452  \n",
       "56       MN                           7500              3.585  \n",
       "64       IL                           7500              3.440  \n",
       "102      MA                          12500              3.800  \n",
       "112      IL                              0              3.540  \n",
       "117      CA                              0              3.660  \n",
       "121      CT                              0              3.600  \n",
       "123      MA                              0              3.690  \n",
       "\n",
       "[10 rows x 21 columns]"
      ]
     },
     "execution_count": 114,
     "metadata": {},
     "output_type": "execute_result"
    }
   ],
   "source": [
    "# No more whites\n",
    "df.loc[df['Hispanic']=='N.A.']"
   ]
  },
  {
   "cell_type": "markdown",
   "metadata": {},
   "source": [
    "## Clean UG End Date"
   ]
  },
  {
   "cell_type": "code",
   "execution_count": 115,
   "metadata": {},
   "outputs": [
    {
     "data": {
      "text/plain": [
       "Ref                                        int64\n",
       "Status                                     int64\n",
       "Age                                        int64\n",
       "Race                                      object\n",
       "Hispanic                                  object\n",
       "Masters Program                           object\n",
       "Sex                                       object\n",
       "Ug End Date 1                     datetime64[ns]\n",
       "Post-Bac Work                             object\n",
       "Reader 1 Academic                         object\n",
       "Reader 1 Leadership                       object\n",
       "Reader 1 GPA                              object\n",
       "Reader 1 Recommendations                  object\n",
       "Area of Focus                             object\n",
       "GRE Verbal1                              float64\n",
       "GRE Verbal Percentile1                   float64\n",
       "GRE Quantitative1                        float64\n",
       "GRE Quantitative Percentile1             float64\n",
       "Region                                    object\n",
       "App - Financial - Amount Total            object\n",
       "College Degree GPA                       float64\n",
       "dtype: object"
      ]
     },
     "execution_count": 115,
     "metadata": {},
     "output_type": "execute_result"
    }
   ],
   "source": [
    "# What matters in this columns should be the year instead of specific date or month\n",
    "# So we will only keep the month for the no NA data\n",
    "df.dtypes"
   ]
  },
  {
   "cell_type": "code",
   "execution_count": 116,
   "metadata": {},
   "outputs": [],
   "source": [
    "df['Ug End Date 1']=df['Ug End Date 1'].astype('str')"
   ]
  },
  {
   "cell_type": "code",
   "execution_count": 117,
   "metadata": {},
   "outputs": [],
   "source": [
    "df.loc[df['Ug End Date 1']=='NaT','Ug End Date 1']='0'"
   ]
  },
  {
   "cell_type": "code",
   "execution_count": 118,
   "metadata": {},
   "outputs": [],
   "source": [
    "df['Ug End Date 1']=df['Ug End Date 1'].str[:4].astype(int)"
   ]
  },
  {
   "cell_type": "code",
   "execution_count": 119,
   "metadata": {},
   "outputs": [],
   "source": [
    "# To fill up the year with value 0, we want to know how old the students graduate in average and fill  0 with 2020 minus the age difference\n",
    "# Assume the age data is taken from 2017 as the max numer of graduation year + work experience ~2017"
   ]
  },
  {
   "cell_type": "code",
   "execution_count": 120,
   "metadata": {},
   "outputs": [],
   "source": [
    "# Compute average graduate age\n",
    "avg=np.mean(df.loc[df['Ug End Date 1']!=0,'Age']-(2017-df.loc[df['Ug End Date 1']!=0,'Ug End Date 1']))"
   ]
  },
  {
   "cell_type": "code",
   "execution_count": 121,
   "metadata": {},
   "outputs": [],
   "source": [
    "df.loc[df['Ug End Date 1']==0,'Ug End Date 1']=(2017-(df.loc[df['Ug End Date 1']==0,'Age']-avg)).astype(int)"
   ]
  },
  {
   "cell_type": "code",
   "execution_count": 122,
   "metadata": {},
   "outputs": [],
   "source": [
    "df.loc[df['Ug End Date 1']>2017,'Ug End Date 1']=2017"
   ]
  },
  {
   "cell_type": "markdown",
   "metadata": {},
   "source": [
    "## Clean Post-Bac Work"
   ]
  },
  {
   "cell_type": "code",
   "execution_count": 123,
   "metadata": {},
   "outputs": [],
   "source": [
    "# There are many overlap data in this column.\n",
    "# Divde post-bac work into few bins: 0-1, 1-2, 2-3, 3-5, 5-7, 7+\n",
    "bin1=['0-1 years','1 year']\n",
    "bin2=['1-2 years','2 years']\n",
    "bin3=['2-3 years','3 years']\n",
    "bin4=['3-5 years','4 years','5 years']\n",
    "bin5=['5-7 years','6 years','7 years']\n",
    "bin6=['7+ years','8 years', '10+ years']"
   ]
  },
  {
   "cell_type": "code",
   "execution_count": 124,
   "metadata": {},
   "outputs": [],
   "source": [
    "df.loc[df['Post-Bac Work'].isin(bin1),'Post-Bac Work']='0-1 years'"
   ]
  },
  {
   "cell_type": "code",
   "execution_count": 125,
   "metadata": {},
   "outputs": [],
   "source": [
    "df.loc[df['Post-Bac Work'].isin(bin2),'Post-Bac Work']='1-2 years'"
   ]
  },
  {
   "cell_type": "code",
   "execution_count": 126,
   "metadata": {},
   "outputs": [],
   "source": [
    "df.loc[df['Post-Bac Work'].isin(bin3),'Post-Bac Work']='2-3 years'"
   ]
  },
  {
   "cell_type": "code",
   "execution_count": 127,
   "metadata": {},
   "outputs": [],
   "source": [
    "df.loc[df['Post-Bac Work'].isin(bin4),'Post-Bac Work']='3-5 years'"
   ]
  },
  {
   "cell_type": "code",
   "execution_count": 128,
   "metadata": {},
   "outputs": [],
   "source": [
    "df.loc[df['Post-Bac Work'].isin(bin5),'Post-Bac Work']='5-7 years'"
   ]
  },
  {
   "cell_type": "code",
   "execution_count": 129,
   "metadata": {},
   "outputs": [],
   "source": [
    "df.loc[df['Post-Bac Work'].isin(bin6),'Post-Bac Work']='7+ years'"
   ]
  },
  {
   "cell_type": "code",
   "execution_count": 130,
   "metadata": {},
   "outputs": [
    {
     "data": {
      "text/plain": [
       "Post-Bac Work\n",
       "0-1 years    30\n",
       "1-2 years    20\n",
       "2-3 years    21\n",
       "3-5 years    42\n",
       "5-7 years    12\n",
       "7+ years      9\n",
       "dtype: int64"
      ]
     },
     "execution_count": 130,
     "metadata": {},
     "output_type": "execute_result"
    }
   ],
   "source": [
    "df.groupby(['Post-Bac Work']).size()"
   ]
  },
  {
   "cell_type": "code",
   "execution_count": 131,
   "metadata": {},
   "outputs": [
    {
     "data": {
      "text/html": [
       "<div>\n",
       "<style scoped>\n",
       "    .dataframe tbody tr th:only-of-type {\n",
       "        vertical-align: middle;\n",
       "    }\n",
       "\n",
       "    .dataframe tbody tr th {\n",
       "        vertical-align: top;\n",
       "    }\n",
       "\n",
       "    .dataframe thead th {\n",
       "        text-align: right;\n",
       "    }\n",
       "</style>\n",
       "<table border=\"1\" class=\"dataframe\">\n",
       "  <thead>\n",
       "    <tr style=\"text-align: right;\">\n",
       "      <th></th>\n",
       "      <th>Ref</th>\n",
       "      <th>Status</th>\n",
       "      <th>Age</th>\n",
       "      <th>Race</th>\n",
       "      <th>Hispanic</th>\n",
       "      <th>Masters Program</th>\n",
       "      <th>Sex</th>\n",
       "      <th>Ug End Date 1</th>\n",
       "      <th>Post-Bac Work</th>\n",
       "      <th>Reader 1 Academic</th>\n",
       "      <th>...</th>\n",
       "      <th>Reader 1 GPA</th>\n",
       "      <th>Reader 1 Recommendations</th>\n",
       "      <th>Area of Focus</th>\n",
       "      <th>GRE Verbal1</th>\n",
       "      <th>GRE Verbal Percentile1</th>\n",
       "      <th>GRE Quantitative1</th>\n",
       "      <th>GRE Quantitative Percentile1</th>\n",
       "      <th>Region</th>\n",
       "      <th>App - Financial - Amount Total</th>\n",
       "      <th>College Degree GPA</th>\n",
       "    </tr>\n",
       "  </thead>\n",
       "  <tbody>\n",
       "    <tr>\n",
       "      <th>23</th>\n",
       "      <td>24</td>\n",
       "      <td>1</td>\n",
       "      <td>20</td>\n",
       "      <td>N.A.</td>\n",
       "      <td>N.A.</td>\n",
       "      <td>BA-MSCAPP Program</td>\n",
       "      <td>F</td>\n",
       "      <td>2017</td>\n",
       "      <td>NaN</td>\n",
       "      <td>A</td>\n",
       "      <td>...</td>\n",
       "      <td>A</td>\n",
       "      <td>B</td>\n",
       "      <td>NaN</td>\n",
       "      <td>NaN</td>\n",
       "      <td>NaN</td>\n",
       "      <td>NaN</td>\n",
       "      <td>NaN</td>\n",
       "      <td>IL</td>\n",
       "      <td>0</td>\n",
       "      <td>3.86</td>\n",
       "    </tr>\n",
       "    <tr>\n",
       "      <th>34</th>\n",
       "      <td>35</td>\n",
       "      <td>1</td>\n",
       "      <td>22</td>\n",
       "      <td>Asia</td>\n",
       "      <td>No</td>\n",
       "      <td>BA-MSCAPP Program</td>\n",
       "      <td>M</td>\n",
       "      <td>2017</td>\n",
       "      <td>NaN</td>\n",
       "      <td>B</td>\n",
       "      <td>...</td>\n",
       "      <td>C</td>\n",
       "      <td>B</td>\n",
       "      <td>Policy Analysis</td>\n",
       "      <td>NaN</td>\n",
       "      <td>NaN</td>\n",
       "      <td>NaN</td>\n",
       "      <td>NaN</td>\n",
       "      <td>IL</td>\n",
       "      <td>5000</td>\n",
       "      <td>3.30</td>\n",
       "    </tr>\n",
       "    <tr>\n",
       "      <th>75</th>\n",
       "      <td>76</td>\n",
       "      <td>1</td>\n",
       "      <td>23</td>\n",
       "      <td>White</td>\n",
       "      <td>No</td>\n",
       "      <td>Master of Public Policy (MPP) Studies Program</td>\n",
       "      <td>M</td>\n",
       "      <td>2016</td>\n",
       "      <td>NaN</td>\n",
       "      <td>A</td>\n",
       "      <td>...</td>\n",
       "      <td>B</td>\n",
       "      <td>B</td>\n",
       "      <td>Politics and the Policymaking Process</td>\n",
       "      <td>162.0</td>\n",
       "      <td>90.0</td>\n",
       "      <td>168.0</td>\n",
       "      <td>95.0</td>\n",
       "      <td>IL</td>\n",
       "      <td>20000</td>\n",
       "      <td>3.60</td>\n",
       "    </tr>\n",
       "    <tr>\n",
       "      <th>89</th>\n",
       "      <td>90</td>\n",
       "      <td>1</td>\n",
       "      <td>23</td>\n",
       "      <td>Asia</td>\n",
       "      <td>No</td>\n",
       "      <td>BA-MSCAPP Program</td>\n",
       "      <td>M</td>\n",
       "      <td>2016</td>\n",
       "      <td>NaN</td>\n",
       "      <td>B</td>\n",
       "      <td>...</td>\n",
       "      <td>B</td>\n",
       "      <td>B</td>\n",
       "      <td>Cultural Policy</td>\n",
       "      <td>NaN</td>\n",
       "      <td>NaN</td>\n",
       "      <td>NaN</td>\n",
       "      <td>NaN</td>\n",
       "      <td>IL</td>\n",
       "      <td>20000</td>\n",
       "      <td>3.62</td>\n",
       "    </tr>\n",
       "    <tr>\n",
       "      <th>94</th>\n",
       "      <td>95</td>\n",
       "      <td>1</td>\n",
       "      <td>19</td>\n",
       "      <td>Asia</td>\n",
       "      <td>No</td>\n",
       "      <td>Professional Option (For Current UChicago Coll...</td>\n",
       "      <td>F</td>\n",
       "      <td>2017</td>\n",
       "      <td>NaN</td>\n",
       "      <td>A</td>\n",
       "      <td>...</td>\n",
       "      <td>B</td>\n",
       "      <td>B</td>\n",
       "      <td>Unsure</td>\n",
       "      <td>NaN</td>\n",
       "      <td>NaN</td>\n",
       "      <td>NaN</td>\n",
       "      <td>NaN</td>\n",
       "      <td>IL</td>\n",
       "      <td>12500</td>\n",
       "      <td>3.50</td>\n",
       "    </tr>\n",
       "    <tr>\n",
       "      <th>119</th>\n",
       "      <td>120</td>\n",
       "      <td>1</td>\n",
       "      <td>24</td>\n",
       "      <td>N.A.</td>\n",
       "      <td>No</td>\n",
       "      <td>Master of Public Policy (MPP) Studies Program</td>\n",
       "      <td>F</td>\n",
       "      <td>2016</td>\n",
       "      <td>NaN</td>\n",
       "      <td>B</td>\n",
       "      <td>...</td>\n",
       "      <td>B</td>\n",
       "      <td>B</td>\n",
       "      <td>International Policy</td>\n",
       "      <td>158.0</td>\n",
       "      <td>80.0</td>\n",
       "      <td>159.0</td>\n",
       "      <td>73.0</td>\n",
       "      <td>IL</td>\n",
       "      <td>0</td>\n",
       "      <td>3.50</td>\n",
       "    </tr>\n",
       "    <tr>\n",
       "      <th>127</th>\n",
       "      <td>128</td>\n",
       "      <td>0</td>\n",
       "      <td>23</td>\n",
       "      <td>White</td>\n",
       "      <td>No</td>\n",
       "      <td>BA-MSCAPP Program</td>\n",
       "      <td>M</td>\n",
       "      <td>2017</td>\n",
       "      <td>NaN</td>\n",
       "      <td>B</td>\n",
       "      <td>...</td>\n",
       "      <td>B</td>\n",
       "      <td>B</td>\n",
       "      <td>Politics and the Policymaking Process</td>\n",
       "      <td>NaN</td>\n",
       "      <td>NaN</td>\n",
       "      <td>NaN</td>\n",
       "      <td>NaN</td>\n",
       "      <td>NY</td>\n",
       "      <td>0</td>\n",
       "      <td>3.70</td>\n",
       "    </tr>\n",
       "  </tbody>\n",
       "</table>\n",
       "<p>7 rows × 21 columns</p>\n",
       "</div>"
      ],
      "text/plain": [
       "     Ref  Status  Age   Race Hispanic  \\\n",
       "23    24       1   20   N.A.     N.A.   \n",
       "34    35       1   22   Asia       No   \n",
       "75    76       1   23  White       No   \n",
       "89    90       1   23   Asia       No   \n",
       "94    95       1   19   Asia       No   \n",
       "119  120       1   24   N.A.       No   \n",
       "127  128       0   23  White       No   \n",
       "\n",
       "                                       Masters Program Sex  Ug End Date 1  \\\n",
       "23                                   BA-MSCAPP Program   F           2017   \n",
       "34                                   BA-MSCAPP Program   M           2017   \n",
       "75       Master of Public Policy (MPP) Studies Program   M           2016   \n",
       "89                                   BA-MSCAPP Program   M           2016   \n",
       "94   Professional Option (For Current UChicago Coll...   F           2017   \n",
       "119      Master of Public Policy (MPP) Studies Program   F           2016   \n",
       "127                                  BA-MSCAPP Program   M           2017   \n",
       "\n",
       "    Post-Bac Work Reader 1 Academic  ... Reader 1 GPA  \\\n",
       "23            NaN                 A  ...            A   \n",
       "34            NaN                 B  ...            C   \n",
       "75            NaN                 A  ...            B   \n",
       "89            NaN                 B  ...            B   \n",
       "94            NaN                 A  ...            B   \n",
       "119           NaN                 B  ...            B   \n",
       "127           NaN                 B  ...            B   \n",
       "\n",
       "    Reader 1 Recommendations                          Area of Focus  \\\n",
       "23                         B                                    NaN   \n",
       "34                         B                        Policy Analysis   \n",
       "75                         B  Politics and the Policymaking Process   \n",
       "89                         B                        Cultural Policy   \n",
       "94                         B                                 Unsure   \n",
       "119                        B                   International Policy   \n",
       "127                        B  Politics and the Policymaking Process   \n",
       "\n",
       "    GRE Verbal1  GRE Verbal Percentile1  GRE Quantitative1  \\\n",
       "23          NaN                     NaN                NaN   \n",
       "34          NaN                     NaN                NaN   \n",
       "75        162.0                    90.0              168.0   \n",
       "89          NaN                     NaN                NaN   \n",
       "94          NaN                     NaN                NaN   \n",
       "119       158.0                    80.0              159.0   \n",
       "127         NaN                     NaN                NaN   \n",
       "\n",
       "     GRE Quantitative Percentile1  Region App - Financial - Amount Total  \\\n",
       "23                            NaN      IL                              0   \n",
       "34                            NaN      IL                           5000   \n",
       "75                           95.0      IL                          20000   \n",
       "89                            NaN      IL                          20000   \n",
       "94                            NaN      IL                          12500   \n",
       "119                          73.0      IL                              0   \n",
       "127                           NaN      NY                              0   \n",
       "\n",
       "    College Degree GPA  \n",
       "23                3.86  \n",
       "34                3.30  \n",
       "75                3.60  \n",
       "89                3.62  \n",
       "94                3.50  \n",
       "119               3.50  \n",
       "127               3.70  \n",
       "\n",
       "[7 rows x 21 columns]"
      ]
     },
     "execution_count": 131,
     "metadata": {},
     "output_type": "execute_result"
    }
   ],
   "source": [
    "df.loc[df['Post-Bac Work'].isnull()]"
   ]
  },
  {
   "cell_type": "code",
   "execution_count": 132,
   "metadata": {},
   "outputs": [],
   "source": [
    "# As we can see for student with post-pac work NAN, \n",
    "# all of them graduated in 2016-2017 which means they almost do not have any experience\n",
    "# Therefore we replace NAN with 0-1 years\n",
    "df.loc[df['Post-Bac Work'].isnull(),'Post-Bac Work']='0-1 years'"
   ]
  },
  {
   "cell_type": "markdown",
   "metadata": {},
   "source": [
    "## Clean Academic, Leadership, GPA and Recommendations"
   ]
  },
  {
   "cell_type": "code",
   "execution_count": 133,
   "metadata": {},
   "outputs": [],
   "source": [
    "# Since there is no obvious clue for the potential missing values\n",
    "# and we do not want to discard these data due to limited data available.\n",
    "# We fill the missing value with the mode in their column.\n",
    "# For Reader 1 GPA columns, we will drop it in the predictive model, \n",
    "# since there is a columns that has detailed GPA information"
   ]
  },
  {
   "cell_type": "code",
   "execution_count": 175,
   "metadata": {},
   "outputs": [],
   "source": [
    "for column in ['Reader 1 Academic', 'Reader 1 Leadership', 'Reader 1 Recommendations','Reader 1 GPA']:\n",
    "    df[column].fillna(df[column].mode()[0], inplace=True)"
   ]
  },
  {
   "cell_type": "markdown",
   "metadata": {},
   "source": [
    "## Clean GRE"
   ]
  },
  {
   "cell_type": "code",
   "execution_count": 135,
   "metadata": {},
   "outputs": [],
   "source": [
    "import matplotlib.pyplot as plt"
   ]
  },
  {
   "cell_type": "code",
   "execution_count": 136,
   "metadata": {},
   "outputs": [
    {
     "data": {
      "text/plain": [
       "<matplotlib.collections.PathCollection at 0x7fd46e36e048>"
      ]
     },
     "execution_count": 136,
     "metadata": {},
     "output_type": "execute_result"
    },
    {
     "data": {
      "image/png": "[encoded data removed]",
      "text/plain": [
       "<Figure size 432x288 with 1 Axes>"
      ]
     },
     "metadata": {},
     "output_type": "display_data"
    }
   ],
   "source": [
    "plt.scatter(df['GRE Verbal1'],df['GRE Verbal Percentile1'])"
   ]
  },
  {
   "cell_type": "code",
   "execution_count": 137,
   "metadata": {},
   "outputs": [
    {
     "data": {
      "text/plain": [
       "<matplotlib.collections.PathCollection at 0x7fd46e4c2358>"
      ]
     },
     "execution_count": 137,
     "metadata": {},
     "output_type": "execute_result"
    },
    {
     "data": {
      "image/png": "[encoded data removed]",
      "text/plain": [
       "<Figure size 432x288 with 1 Axes>"
      ]
     },
     "metadata": {},
     "output_type": "display_data"
    }
   ],
   "source": [
    "plt.scatter(df['GRE Quantitative1'],df['GRE Quantitative Percentile1'])"
   ]
  },
  {
   "cell_type": "code",
   "execution_count": 145,
   "metadata": {},
   "outputs": [],
   "source": [
    "# Firstly, differernt GRE tests are taken (old GRE and new GRE),\n",
    "# therefore the score is not comparable and we need to transfer the score"
   ]
  },
  {
   "cell_type": "code",
   "execution_count": 150,
   "metadata": {},
   "outputs": [],
   "source": [
    "# I filled the missing value with the mean value of the percentile\n",
    "df['GRE Quantitative Percentile1'].fillna(df['GRE Quantitative Percentile1'].mean(skipna=True),inplace=True)\n",
    "df['GRE Verbal Percentile1'].fillna(df['GRE Verbal Percentile1'].mean(skipna=True),inplace=True)"
   ]
  },
  {
   "cell_type": "code",
   "execution_count": 154,
   "metadata": {},
   "outputs": [],
   "source": [
    "# Transfer the old score (200-800) to new score (130-170)\n",
    "df.loc[df['GRE Quantitative1']>170,'GRE Quantitative1']=((df.loc[df['GRE Quantitative1']>170,'GRE Quantitative1']-200)/800)*40+130\n",
    "df.loc[df['GRE Verbal1']>170,'GRE Verbal1']=((df.loc[df['GRE Verbal1']>170,'GRE Verbal1']-200)/800)*40+130"
   ]
  },
  {
   "cell_type": "code",
   "execution_count": 169,
   "metadata": {},
   "outputs": [],
   "source": [
    "df['GRE Quantitative Percentile1']=df['GRE Quantitative Percentile1'].astype(int)\n",
    "df['GRE Verbal Percentile1']=df['GRE Verbal Percentile1'].astype(int)"
   ]
  },
  {
   "cell_type": "code",
   "execution_count": null,
   "metadata": {},
   "outputs": [],
   "source": []
  },
  {
   "cell_type": "markdown",
   "metadata": {},
   "source": [
    "## Clean App-Financial-Amount Total"
   ]
  },
  {
   "cell_type": "code",
   "execution_count": 155,
   "metadata": {},
   "outputs": [],
   "source": [
    "df['App - Financial - Amount Total']=df['App - Financial - Amount Total'].str[1:]"
   ]
  },
  {
   "cell_type": "code",
   "execution_count": 156,
   "metadata": {},
   "outputs": [],
   "source": [
    "temp=df['App - Financial - Amount Total']\n",
    "a=np.array(temp)\n",
    "dat=[]\n",
    "for i in a:\n",
    "    if i=='':\n",
    "        dat.append(0)\n",
    "    elif ',' in i:\n",
    "        x=''.join(i.split(','))\n",
    "        dat.append(int(x))\n",
    "    else:\n",
    "        dat.append(int(i))"
   ]
  },
  {
   "cell_type": "code",
   "execution_count": 157,
   "metadata": {},
   "outputs": [],
   "source": [
    "df['App - Financial - Amount Total']=np.array(dat)"
   ]
  },
  {
   "cell_type": "markdown",
   "metadata": {},
   "source": [
    "## Clean College GPA Data"
   ]
  },
  {
   "cell_type": "code",
   "execution_count": 158,
   "metadata": {},
   "outputs": [],
   "source": [
    "# For missing value of GPA, we fill the missing value with the mean GPA\n",
    "# For the GPA in scale of 100 convert them in scale of 4\n",
    "df.loc[df['College Degree GPA']>4,'College Degree GPA']=df.loc[df['College Degree GPA']>4,'College Degree GPA']/100*4"
   ]
  },
  {
   "cell_type": "code",
   "execution_count": 163,
   "metadata": {},
   "outputs": [],
   "source": [
    "df['College Degree GPA'].fillna(df['College Degree GPA'].mean(skipna=True),inplace=True)"
   ]
  },
  {
   "cell_type": "code",
   "execution_count": 165,
   "metadata": {},
   "outputs": [],
   "source": [
    "df['College Degree GPA']=round(df['College Degree GPA'],2)"
   ]
  },
  {
   "cell_type": "code",
   "execution_count": null,
   "metadata": {},
   "outputs": [],
   "source": []
  },
  {
   "cell_type": "markdown",
   "metadata": {},
   "source": [
    "## Save the Data"
   ]
  },
  {
   "cell_type": "code",
   "execution_count": 177,
   "metadata": {},
   "outputs": [],
   "source": [
    "df.to_csv('cleaned_data.csv')"
   ]
  }
 ],
 "metadata": {
  "kernelspec": {
   "display_name": "Python 3",
   "language": "python",
   "name": "python3"
  },
  "language_info": {
   "codemirror_mode": {
    "name": "ipython",
    "version": 3
   },
   "file_extension": ".py",
   "mimetype": "text/x-python",
   "name": "python",
   "nbconvert_exporter": "python",
   "pygments_lexer": "ipython3",
   "version": "3.6.9"
  }
 },
 "nbformat": 4,
 "nbformat_minor": 2
}
